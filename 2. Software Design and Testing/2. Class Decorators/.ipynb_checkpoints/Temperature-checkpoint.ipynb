{
 "cells": [
  {
   "cell_type": "code",
   "execution_count": null,
   "id": "0a1ac8d0",
   "metadata": {},
   "outputs": [],
   "source": [
    "class Temperature:\n",
    "    def __init__(self,celcius):\n",
    "        self.celcius = celcius\n",
    "    \n",
    "    def to_farenheit(celcius):\n",
    "        farenheit = (celcius * 1.8) + 32\n",
    "        return print (f'{farenheit} Farenheit')\n",
    "    \n",
    "    @staticmethod\n",
    "    def to_celcius(farenheit):\n",
    "        celcius = (farenheit - 32) * 1.8\n",
    "        return print(f'{celcius} degree Celcius')\n",
    "    \n",
    "    @staticmethod\n",
    "    def is_temp_valid(farenheit):\n",
    "        return celcius >= -273 celcius <= 3000\n",
    "    \n",
    "    @classmethod\n",
    "    def temp_farenheit(cls):\n",
    "        farenheit = temp.cls\n",
    "    \n",
    "    @classmethod\n",
    "    def standard(cls,celcius):\n",
    "        celcius = 0\n"
   ]
  },
  {
   "cell_type": "code",
   "execution_count": 41,
   "id": "78c65008",
   "metadata": {},
   "outputs": [],
   "source": [
    "str_test = 'This Assessment Is Taking Forever'\n"
   ]
  },
  {
   "cell_type": "code",
   "execution_count": 46,
   "id": "8430690d",
   "metadata": {},
   "outputs": [
    {
     "data": {
      "text/plain": [
       "True"
      ]
     },
     "execution_count": 46,
     "metadata": {},
     "output_type": "execute_result"
    }
   ],
   "source": [
    "'This' in str_test\n"
   ]
  },
  {
   "cell_type": "code",
   "execution_count": null,
   "id": "e0768182",
   "metadata": {},
   "outputs": [],
   "source": []
  }
 ],
 "metadata": {
  "kernelspec": {
   "display_name": "Python [conda env:.conda-AiCore] *",
   "language": "python",
   "name": "conda-env-.conda-AiCore-py"
  },
  "language_info": {
   "codemirror_mode": {
    "name": "ipython",
    "version": 3
   },
   "file_extension": ".py",
   "mimetype": "text/x-python",
   "name": "python",
   "nbconvert_exporter": "python",
   "pygments_lexer": "ipython3",
   "version": "3.9.6"
  }
 },
 "nbformat": 4,
 "nbformat_minor": 5
}
