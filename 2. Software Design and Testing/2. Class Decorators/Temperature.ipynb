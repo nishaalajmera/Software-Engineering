{
 "cells": [
  {
   "cell_type": "code",
   "execution_count": 14,
   "id": "0a1ac8d0",
   "metadata": {},
   "outputs": [],
   "source": [
    "class Temperature:\n",
    "    def __init__(self,celcius):\n",
    "        self.celcius = celcius\n",
    "    \n",
    "    def to_farenheit(celcius):\n",
    "        farenheit = (celcius * 1.8) + 32\n",
    "        return print (f'{farenheit} Farenheit')\n",
    "    \n",
    "    @staticmethod\n",
    "    def to_celcius(farenheit):\n",
    "        celcius = (farenheit - 32) * 1.8\n",
    "        return print(f'{celcius} degree Celcius')\n",
    "    \n",
    "    @staticmethod\n",
    "    def is_temp_valid(farenheit):\n",
    "        return celcius >= -273 and celcius <= 3000\n",
    "    \n",
    "    @classmethod\n",
    "    def temp_farenheit(cls):\n",
    "        farenheit = temp.cls\n",
    "        \n",
    "    @classmethod\n",
    "    def standard(cls):\n",
    "        celcius = 0\n",
    "        return print (celcius)\n",
    "    \n",
    "    @property\n",
    "    def celcius(self):\n",
    "        print('Getting celcius value')\n",
    "        return self.__celcius\n",
    "    \n",
    "    @celcius.setter\n",
    "    def celcius(self, celcius):\n",
    "        print('Setting celcius value')\n",
    "        self.__celcius = celcius\n",
    "    \n",
    "    @celcius.deleter\n",
    "    def celcius(self):\n",
    "        print('Deleting celcius value')\n",
    "        del self.__celcius\n"
   ]
  },
  {
   "cell_type": "code",
   "execution_count": 16,
   "id": "77563d0f",
   "metadata": {},
   "outputs": [
    {
     "name": "stdout",
     "output_type": "stream",
     "text": [
      "Setting celcius value\n"
     ]
    },
    {
     "ename": "TypeError",
     "evalue": "unsupported operand type(s) for *: 'Temperature' and 'float'",
     "output_type": "error",
     "traceback": [
      "\u001b[0;31m---------------------------------------------------------------------------\u001b[0m",
      "\u001b[0;31mTypeError\u001b[0m                                 Traceback (most recent call last)",
      "\u001b[0;32m<ipython-input-16-9b8d547c05b6>\u001b[0m in \u001b[0;36m<module>\u001b[0;34m\u001b[0m\n\u001b[1;32m      1\u001b[0m \u001b[0mnish\u001b[0m \u001b[0;34m=\u001b[0m \u001b[0mTemperature\u001b[0m\u001b[0;34m(\u001b[0m\u001b[0;36m20\u001b[0m\u001b[0;34m)\u001b[0m\u001b[0;34m\u001b[0m\u001b[0;34m\u001b[0m\u001b[0m\n\u001b[0;32m----> 2\u001b[0;31m \u001b[0mnish\u001b[0m\u001b[0;34m.\u001b[0m\u001b[0mto_farenheit\u001b[0m\u001b[0;34m(\u001b[0m\u001b[0;34m)\u001b[0m\u001b[0;34m\u001b[0m\u001b[0;34m\u001b[0m\u001b[0m\n\u001b[0m",
      "\u001b[0;32m<ipython-input-14-fc66f81a4d47>\u001b[0m in \u001b[0;36mto_farenheit\u001b[0;34m(celcius)\u001b[0m\n\u001b[1;32m      4\u001b[0m \u001b[0;34m\u001b[0m\u001b[0m\n\u001b[1;32m      5\u001b[0m     \u001b[0;32mdef\u001b[0m \u001b[0mto_farenheit\u001b[0m\u001b[0;34m(\u001b[0m\u001b[0mcelcius\u001b[0m\u001b[0;34m)\u001b[0m\u001b[0;34m:\u001b[0m\u001b[0;34m\u001b[0m\u001b[0;34m\u001b[0m\u001b[0m\n\u001b[0;32m----> 6\u001b[0;31m         \u001b[0mfarenheit\u001b[0m \u001b[0;34m=\u001b[0m \u001b[0;34m(\u001b[0m\u001b[0mcelcius\u001b[0m \u001b[0;34m*\u001b[0m \u001b[0;36m1.8\u001b[0m\u001b[0;34m)\u001b[0m \u001b[0;34m+\u001b[0m \u001b[0;36m32\u001b[0m\u001b[0;34m\u001b[0m\u001b[0;34m\u001b[0m\u001b[0m\n\u001b[0m\u001b[1;32m      7\u001b[0m         \u001b[0;32mreturn\u001b[0m \u001b[0mprint\u001b[0m \u001b[0;34m(\u001b[0m\u001b[0;34mf'{farenheit} Farenheit'\u001b[0m\u001b[0;34m)\u001b[0m\u001b[0;34m\u001b[0m\u001b[0;34m\u001b[0m\u001b[0m\n\u001b[1;32m      8\u001b[0m \u001b[0;34m\u001b[0m\u001b[0m\n",
      "\u001b[0;31mTypeError\u001b[0m: unsupported operand type(s) for *: 'Temperature' and 'float'"
     ]
    }
   ],
   "source": [
    "nish = Temperature(20)\n",
    "nish.to_farenheit()"
   ]
  },
  {
   "cell_type": "code",
   "execution_count": null,
   "id": "d67cd0ff",
   "metadata": {},
   "outputs": [],
   "source": []
  }
 ],
 "metadata": {
  "kernelspec": {
   "display_name": "Python [conda env:.conda-AiCore] *",
   "language": "python",
   "name": "conda-env-.conda-AiCore-py"
  },
  "language_info": {
   "codemirror_mode": {
    "name": "ipython",
    "version": 3
   },
   "file_extension": ".py",
   "mimetype": "text/x-python",
   "name": "python",
   "nbconvert_exporter": "python",
   "pygments_lexer": "ipython3",
   "version": "3.9.6"
  }
 },
 "nbformat": 4,
 "nbformat_minor": 5
}
